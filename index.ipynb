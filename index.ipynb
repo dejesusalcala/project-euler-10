{
 "cells": [
  {
   "cell_type": "raw",
   "metadata": {},
   "source": [
    "---\n",
    "title: Project Euler\n",
    "author: Angel Alcala Ruiz\n",
    "date: January 3, 2024\n",
    "format:\n",
    "    html:\n",
    "        code-fold: show\n",
    "        code-tools: true\n",
    "---"
   ]
  },
  {
   "attachments": {},
   "cell_type": "markdown",
   "metadata": {},
   "source": [
    "## Problem 10: Summation of Primes"
   ]
  },
  {
   "attachments": {},
   "cell_type": "markdown",
   "metadata": {},
   "source": [
    "The sum of the primes below 10 is $17 = 2 + 3 + 5 + 7$.\n",
    "\n",
    "Find the sum of all the primes below two million."
   ]
  },
  {
   "attachments": {},
   "cell_type": "markdown",
   "metadata": {},
   "source": [
    "Let's solve using **Julia**"
   ]
  },
  {
   "cell_type": "code",
   "execution_count": 2,
   "metadata": {},
   "outputs": [
    {
     "data": {
      "text/plain": [
       "PrimeSum (generic function with 1 method)"
      ]
     },
     "metadata": {},
     "output_type": "display_data"
    }
   ],
   "source": [
    "function PrimeSum(n)\n",
    "\n",
    "#' @@name PrimeSum\n",
    "#'\n",
    "#' @@description\n",
    "#' \n",
    "#' This function sums all of the primes that are less than or equal to n\n",
    "#'\n",
    "#' @@arg n: A positive integer n\n",
    "#' \n",
    "#' @@return The sum of all primes that are less than or equal to n\n",
    "#'\n",
    "#' @@examples\n",
    "\n",
    "#' n = 10\n",
    "#' PrimeSum(n)\n",
    "\n",
    "    function IsPrime(n)\n",
    "        # This function checks whether an integer is prime\n",
    "\n",
    "        bool = true\n",
    "        k = 2\n",
    "        if n == 1\n",
    "            bool = false\n",
    "        elseif n == 2\n",
    "            bool = true\n",
    "        end\n",
    "        \n",
    "        while k < n\n",
    "            if n%k == 0\n",
    "                bool = false\n",
    "                break\n",
    "            end\n",
    "            k = k + 1\n",
    "        end\n",
    "        return bool\n",
    "    end\n",
    "\n",
    "    sum = 0\n",
    "\n",
    "    for i = 1:n\n",
    "        if IsPrime(i)\n",
    "            sum = sum + i\n",
    "        end\n",
    "    end\n",
    "    return sum\n",
    "end"
   ]
  },
  {
   "attachments": {},
   "cell_type": "markdown",
   "metadata": {},
   "source": [
    "Let's now check the given example"
   ]
  },
  {
   "cell_type": "code",
   "execution_count": 3,
   "metadata": {},
   "outputs": [
    {
     "data": {
      "text/plain": [
       "17"
      ]
     },
     "metadata": {},
     "output_type": "display_data"
    }
   ],
   "source": [
    "PrimeSum(10)"
   ]
  },
  {
   "attachments": {},
   "cell_type": "markdown",
   "metadata": {},
   "source": [
    "Therefore we can see that the sum of all the primes below is 17."
   ]
  },
  {
   "attachments": {},
   "cell_type": "markdown",
   "metadata": {},
   "source": [
    "Let's now find the sum of all primes below two million"
   ]
  },
  {
   "cell_type": "code",
   "execution_count": 4,
   "metadata": {},
   "outputs": [
    {
     "data": {
      "text/plain": [
       "142913828922"
      ]
     },
     "metadata": {},
     "output_type": "display_data"
    }
   ],
   "source": [
    "PrimeSum(2000000)"
   ]
  },
  {
   "attachments": {},
   "cell_type": "markdown",
   "metadata": {},
   "source": [
    "Therefore we get that the sum of the primes below two million is $142,913,828,922$."
   ]
  }
 ],
 "metadata": {
  "kernelspec": {
   "display_name": "Julia 1.9.3",
   "language": "julia",
   "name": "julia-1.9"
  },
  "language_info": {
   "file_extension": ".jl",
   "mimetype": "application/julia",
   "name": "julia",
   "version": "1.9.3"
  },
  "orig_nbformat": 4
 },
 "nbformat": 4,
 "nbformat_minor": 2
}
